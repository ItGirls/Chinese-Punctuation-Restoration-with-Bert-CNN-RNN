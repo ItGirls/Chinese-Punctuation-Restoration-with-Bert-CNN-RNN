{
 "cells": [
  {
   "cell_type": "code",
   "execution_count": 1,
   "metadata": {},
   "outputs": [],
   "source": [
    "import pandas as pd\n",
    "import numpy as np\n",
    "from glob import glob\n",
    "from transformers import BertTokenizer\n",
    "import torch\n",
    "from torch import nn\n",
    "%matplotlib inline\n",
    "import json\n",
    "from tqdm import tqdm\n",
    "from sklearn import metrics\n",
    "import os\n",
    "\n",
    "from model_1_to_1 import (\n",
    "    BertChineseLinearPunc,\n",
    "    BertChineseCNNreplaceBert,\n",
    "    BertChineseBigStrideCNN,\n",
    "    BertChineseSlimCNNBert,\n",
    "    BertChineseSlimCNNBertLSTM,\n",
    ")\n",
    "from data_1_to_1 import load_file, preprocess_data, create_data_loader"
   ]
  },
  {
   "cell_type": "markdown",
   "metadata": {},
   "source": [
    "### Model path"
   ]
  },
  {
   "cell_type": "code",
   "execution_count": 2,
   "metadata": {},
   "outputs": [
    {
     "data": {
      "text/plain": [
       "['models/bert-base-uncased.tar.gz',\n",
       " 'models/config.json',\n",
       " 'models/pytorch_model.bin',\n",
       " 'models/vocab.txt',\n",
       " 'models/1_albert_dense_noRnn',\n",
       " 'models/1_albert_dense_rnn',\n",
       " 'models/1_albert_small_dense_hidden_UniRNN',\n",
       " 'models/albert_chinese_small',\n",
       " 'models/albert_chinese_tiny',\n",
       " 'models/albert_en',\n",
       " 'models/bart_tiny',\n",
       " 'models/bert_distill_chinese',\n",
       " 'models/distillbert',\n",
       " 'models/distillroberta_tiny',\n",
       " 'models/2-BertChineseLinearPunc',\n",
       " 'models/3-BertChinese4lyrHiddenCNN',\n",
       " 'models/2-ChineseRobertaCNNlinearDivideConcatPunc_1cnn_k3_20',\n",
       " 'models/2-ChineseRobertaCNNlinearDividedPunc',\n",
       " 'models/3-BertChineseBigStrideCNN',\n",
       " 'models/chinese-roberta-wwm-ext',\n",
       " 'models/2-result-bert-chinese-linear',\n",
       " 'models/2_ChineseRobertaNmlCNNLstmPunc',\n",
       " 'models/2_ChineseRobertaCNNnoBnLstmPunc',\n",
       " 'models/bert_base_chinese',\n",
       " 'models/2-result-ChineseRobertaRNNnewLinearPunc',\n",
       " 'models/2-ChineseRobertaNoCNNLstmPunc',\n",
       " 'models/3-SegBertChineseLinearPunc',\n",
       " 'models/2-ChineseRobertaCNNLstmPunc',\n",
       " 'models/2-ChineseRobertaCNNlinearDivideConcatPunc',\n",
       " 'models/2-ChineseRobertaCNNlinearDivideConcatPunc_multiLinear',\n",
       " 'models/2-ChineseRobertaCNNlinearDividedBertPunc',\n",
       " 'models/2-BertChineseLSTMLinearPunc',\n",
       " 'models/2-BertChineseLinearPunc_len200_bs_10',\n",
       " 'models/2-BertChineseLinearPunc_len200_bs20',\n",
       " 'models/2-BertChineseLinearPunc_len300_bs10',\n",
       " 'models/2-BertChineseLinearPunc_len150_bs20',\n",
       " 'models/2-BertChineseCNNlinearDivideConcatPunc',\n",
       " 'models/2-BertChineseCNNlinearDividedBertPunc',\n",
       " 'models/2_2_BertChineseLinearPunc_200_10',\n",
       " 'models/2-BertChineseCNNreplaceBert_len200_bs10',\n",
       " 'models/2-BertChineseSlimCNNBert_len200_bs_10',\n",
       " 'models/3_BertChineseSlimCNNBert_len200_bs10',\n",
       " 'models/3-BertChinese4lyrHiddenLinear',\n",
       " 'models/3-BertChineseSegHiddenLinearPunc',\n",
       " 'models/iwslt-BertChineseLinearPunc',\n",
       " 'models/iwslt-BertChineseSlimCNNBert',\n",
       " 'models/iwslt-BertChineseLSTMLinearPunc',\n",
       " 'models/iwslt-BertChineseSlimCNNBertLSTM']"
      ]
     },
     "execution_count": 2,
     "metadata": {},
     "output_type": "execute_result"
    }
   ],
   "source": [
    "glob('models/*')"
   ]
  },
  {
   "cell_type": "code",
   "execution_count": 3,
   "metadata": {},
   "outputs": [],
   "source": [
    "path = 'models/iwslt-BertChineseSlimCNNBertLSTM'"
   ]
  },
  {
   "cell_type": "markdown",
   "metadata": {},
   "source": [
    "### Prepare"
   ]
  },
  {
   "cell_type": "code",
   "execution_count": 4,
   "metadata": {},
   "outputs": [],
   "source": [
    "data_test = load_file('data/zh_iwslt/test_valid')\n",
    "data_test_asr = load_file('data/zh_iwslt/test_valid')\n",
    "# data_test = load_file('data/zh_pfdsj_3punc/test')\n",
    "# data_test_asr = load_file('data/zh_pfdsj_3punc//test')\n",
    "# data_test = load_file('data/NPR-podcasts/test')"
   ]
  },
  {
   "cell_type": "code",
   "execution_count": 5,
   "metadata": {},
   "outputs": [
    {
     "data": {
      "text/plain": [
       "{'segment_size': 100,\n",
       " 'dropout': 0.3,\n",
       " 'epochs_top': 30,\n",
       " 'iterations_top': 3,\n",
       " 'batch_size_top': 40,\n",
       " 'learning_rate_top': 1e-05,\n",
       " 'epochs_all': 30,\n",
       " 'iterations_all': 3,\n",
       " 'batch_size_all': 10,\n",
       " 'learning_rate_all': 1e-05,\n",
       " 'seq_len': 200}"
      ]
     },
     "execution_count": 5,
     "metadata": {},
     "output_type": "execute_result"
    }
   ],
   "source": [
    "with open(os.path.join(path, 'hyperparameters.json'), 'r') as f:\n",
    "    hyperparameters = json.load(f)\n",
    "hyperparameters"
   ]
  },
  {
   "cell_type": "code",
   "execution_count": 6,
   "metadata": {},
   "outputs": [],
   "source": [
    "tokenizer = BertTokenizer.from_pretrained(os.path.join(\"models\", 'bert_base_chinese'), do_lower_case=True)\n",
    "\n",
    "punctuation_enc = {\n",
    "    'O': 0,\n",
    "    '，': 1,\n",
    "    '。': 2,\n",
    "    '？': 3\n",
    "}\n",
    "\n",
    "# punctuation_enc = {\n",
    "#     'O': 0,\n",
    "#     'PERIOD': 1\n",
    "# }\n",
    "\n",
    "# segment_size = hyperparameters['segment_size']\n",
    "segment_size = 200"
   ]
  },
  {
   "cell_type": "code",
   "execution_count": 7,
   "metadata": {},
   "outputs": [],
   "source": [
    "X_test, y_test = preprocess_data(data_test, tokenizer, punctuation_enc, segment_size)\n",
    "X_test_asr, y_test_asr = preprocess_data(data_test_asr, tokenizer, punctuation_enc, segment_size)"
   ]
  },
  {
   "cell_type": "code",
   "execution_count": 8,
   "metadata": {},
   "outputs": [],
   "source": [
    "device = torch.device(\"cuda:0\" if torch.cuda.is_available() else \"cpu\")"
   ]
  },
  {
   "cell_type": "code",
   "execution_count": 10,
   "metadata": {},
   "outputs": [
    {
     "name": "stdout",
     "output_type": "stream",
     "text": [
      "fucking code**************\n"
     ]
    }
   ],
   "source": [
    "output_size = len(punctuation_enc)\n",
    "dropout = hyperparameters['dropout']\n",
    "bert_punc = BertChineseSlimCNNBertLSTM(segment_size, output_size, dropout, None).to(device)"
   ]
  },
  {
   "cell_type": "markdown",
   "metadata": {},
   "source": [
    "### Model progress"
   ]
  },
  {
   "cell_type": "code",
   "execution_count": 11,
   "metadata": {
    "scrolled": false
   },
   "outputs": [
    {
     "data": {
      "text/html": [
       "<div>\n",
       "<style scoped>\n",
       "    .dataframe tbody tr th:only-of-type {\n",
       "        vertical-align: middle;\n",
       "    }\n",
       "\n",
       "    .dataframe tbody tr th {\n",
       "        vertical-align: top;\n",
       "    }\n",
       "\n",
       "    .dataframe thead th {\n",
       "        text-align: right;\n",
       "    }\n",
       "</style>\n",
       "<table border=\"1\" class=\"dataframe\">\n",
       "  <thead>\n",
       "    <tr style=\"text-align: right;\">\n",
       "      <th></th>\n",
       "      <th>time</th>\n",
       "      <th>epoch</th>\n",
       "      <th>iteration</th>\n",
       "      <th>training loss</th>\n",
       "      <th>loss</th>\n",
       "      <th>accuracy</th>\n",
       "      <th>f1_O</th>\n",
       "      <th>f1_，</th>\n",
       "      <th>f1_。</th>\n",
       "      <th>f1_？</th>\n",
       "    </tr>\n",
       "  </thead>\n",
       "  <tbody>\n",
       "    <tr>\n",
       "      <th>0</th>\n",
       "      <td>2020-07-06 19:21:43</td>\n",
       "      <td>1</td>\n",
       "      <td>1</td>\n",
       "      <td>0.1019</td>\n",
       "      <td>0.1162</td>\n",
       "      <td>0.9548</td>\n",
       "      <td>0.9819</td>\n",
       "      <td>0.4106</td>\n",
       "      <td>0.7157</td>\n",
       "      <td>0.5359</td>\n",
       "    </tr>\n",
       "    <tr>\n",
       "      <th>1</th>\n",
       "      <td>2020-07-06 19:31:26</td>\n",
       "      <td>1</td>\n",
       "      <td>2</td>\n",
       "      <td>0.1070</td>\n",
       "      <td>0.1093</td>\n",
       "      <td>0.9564</td>\n",
       "      <td>0.9833</td>\n",
       "      <td>0.5066</td>\n",
       "      <td>0.7271</td>\n",
       "      <td>0.6488</td>\n",
       "    </tr>\n",
       "    <tr>\n",
       "      <th>2</th>\n",
       "      <td>2020-07-06 19:41:01</td>\n",
       "      <td>1</td>\n",
       "      <td>3</td>\n",
       "      <td>0.1257</td>\n",
       "      <td>0.1076</td>\n",
       "      <td>0.9569</td>\n",
       "      <td>0.9833</td>\n",
       "      <td>0.5240</td>\n",
       "      <td>0.7343</td>\n",
       "      <td>0.6538</td>\n",
       "    </tr>\n",
       "    <tr>\n",
       "      <th>3</th>\n",
       "      <td>2020-07-06 19:50:37</td>\n",
       "      <td>2</td>\n",
       "      <td>1</td>\n",
       "      <td>0.0983</td>\n",
       "      <td>0.1042</td>\n",
       "      <td>0.9581</td>\n",
       "      <td>0.9837</td>\n",
       "      <td>0.5154</td>\n",
       "      <td>0.7395</td>\n",
       "      <td>0.6548</td>\n",
       "    </tr>\n",
       "    <tr>\n",
       "      <th>4</th>\n",
       "      <td>2020-07-06 20:00:14</td>\n",
       "      <td>2</td>\n",
       "      <td>2</td>\n",
       "      <td>0.1195</td>\n",
       "      <td>0.1040</td>\n",
       "      <td>0.9586</td>\n",
       "      <td>0.9834</td>\n",
       "      <td>0.4755</td>\n",
       "      <td>0.7423</td>\n",
       "      <td>0.6614</td>\n",
       "    </tr>\n",
       "    <tr>\n",
       "      <th>5</th>\n",
       "      <td>2020-07-06 20:09:50</td>\n",
       "      <td>2</td>\n",
       "      <td>3</td>\n",
       "      <td>0.1073</td>\n",
       "      <td>0.1034</td>\n",
       "      <td>0.9587</td>\n",
       "      <td>0.9839</td>\n",
       "      <td>0.5149</td>\n",
       "      <td>0.7430</td>\n",
       "      <td>0.6714</td>\n",
       "    </tr>\n",
       "    <tr>\n",
       "      <th>6</th>\n",
       "      <td>2020-07-06 20:19:14</td>\n",
       "      <td>3</td>\n",
       "      <td>1</td>\n",
       "      <td>0.1155</td>\n",
       "      <td>0.1041</td>\n",
       "      <td>0.9589</td>\n",
       "      <td>0.9838</td>\n",
       "      <td>0.5067</td>\n",
       "      <td>0.7421</td>\n",
       "      <td>0.6717</td>\n",
       "    </tr>\n",
       "    <tr>\n",
       "      <th>7</th>\n",
       "      <td>2020-07-06 20:28:38</td>\n",
       "      <td>3</td>\n",
       "      <td>2</td>\n",
       "      <td>0.0882</td>\n",
       "      <td>0.1063</td>\n",
       "      <td>0.9585</td>\n",
       "      <td>0.9840</td>\n",
       "      <td>0.5256</td>\n",
       "      <td>0.7424</td>\n",
       "      <td>0.6657</td>\n",
       "    </tr>\n",
       "    <tr>\n",
       "      <th>8</th>\n",
       "      <td>2020-07-06 20:38:02</td>\n",
       "      <td>3</td>\n",
       "      <td>3</td>\n",
       "      <td>0.1030</td>\n",
       "      <td>0.1034</td>\n",
       "      <td>0.9590</td>\n",
       "      <td>0.9839</td>\n",
       "      <td>0.5177</td>\n",
       "      <td>0.7444</td>\n",
       "      <td>0.6774</td>\n",
       "    </tr>\n",
       "    <tr>\n",
       "      <th>9</th>\n",
       "      <td>2020-07-06 20:47:26</td>\n",
       "      <td>4</td>\n",
       "      <td>1</td>\n",
       "      <td>0.0735</td>\n",
       "      <td>0.1081</td>\n",
       "      <td>0.9588</td>\n",
       "      <td>0.9834</td>\n",
       "      <td>0.4901</td>\n",
       "      <td>0.7415</td>\n",
       "      <td>0.6664</td>\n",
       "    </tr>\n",
       "  </tbody>\n",
       "</table>\n",
       "</div>"
      ],
      "text/plain": [
       "                  time  epoch  iteration  training loss    loss  accuracy  \\\n",
       "0  2020-07-06 19:21:43      1          1         0.1019  0.1162    0.9548   \n",
       "1  2020-07-06 19:31:26      1          2         0.1070  0.1093    0.9564   \n",
       "2  2020-07-06 19:41:01      1          3         0.1257  0.1076    0.9569   \n",
       "3  2020-07-06 19:50:37      2          1         0.0983  0.1042    0.9581   \n",
       "4  2020-07-06 20:00:14      2          2         0.1195  0.1040    0.9586   \n",
       "5  2020-07-06 20:09:50      2          3         0.1073  0.1034    0.9587   \n",
       "6  2020-07-06 20:19:14      3          1         0.1155  0.1041    0.9589   \n",
       "7  2020-07-06 20:28:38      3          2         0.0882  0.1063    0.9585   \n",
       "8  2020-07-06 20:38:02      3          3         0.1030  0.1034    0.9590   \n",
       "9  2020-07-06 20:47:26      4          1         0.0735  0.1081    0.9588   \n",
       "\n",
       "     f1_O    f1_，    f1_。    f1_？  \n",
       "0  0.9819  0.4106  0.7157  0.5359  \n",
       "1  0.9833  0.5066  0.7271  0.6488  \n",
       "2  0.9833  0.5240  0.7343  0.6538  \n",
       "3  0.9837  0.5154  0.7395  0.6548  \n",
       "4  0.9834  0.4755  0.7423  0.6614  \n",
       "5  0.9839  0.5149  0.7430  0.6714  \n",
       "6  0.9838  0.5067  0.7421  0.6717  \n",
       "7  0.9840  0.5256  0.7424  0.6657  \n",
       "8  0.9839  0.5177  0.7444  0.6774  \n",
       "9  0.9834  0.4901  0.7415  0.6664  "
      ]
     },
     "execution_count": 11,
     "metadata": {},
     "output_type": "execute_result"
    }
   ],
   "source": [
    "progress = pd.read_csv(os.path.join(path, 'progress.csv'), delimiter=';')\n",
    "progress"
   ]
  },
  {
   "cell_type": "code",
   "execution_count": 12,
   "metadata": {},
   "outputs": [
    {
     "data": {
      "image/png": "[encoded data removed]",
      "text/plain": [
       "<Figure size 432x288 with 1 Axes>"
      ]
     },
     "metadata": {
      "needs_background": "light"
     },
     "output_type": "display_data"
    }
   ],
   "source": [
    "progress[['training loss', 'loss']].plot();"
   ]
  },
  {
   "cell_type": "code",
   "execution_count": 12,
   "metadata": {},
   "outputs": [
    {
     "name": "stderr",
     "output_type": "stream",
     "text": [
      "/home/zz/anaconda3/envs/torch_gpu_1.5/lib/python3.7/site-packages/matplotlib/backends/backend_agg.py:214: RuntimeWarning: Glyph 65292 missing from current font.\n",
      "  font.set_text(s, 0.0, flags=flags)\n",
      "/home/zz/anaconda3/envs/torch_gpu_1.5/lib/python3.7/site-packages/matplotlib/backends/backend_agg.py:214: RuntimeWarning: Glyph 12290 missing from current font.\n",
      "  font.set_text(s, 0.0, flags=flags)\n",
      "/home/zz/anaconda3/envs/torch_gpu_1.5/lib/python3.7/site-packages/matplotlib/backends/backend_agg.py:214: RuntimeWarning: Glyph 65311 missing from current font.\n",
      "  font.set_text(s, 0.0, flags=flags)\n",
      "/home/zz/anaconda3/envs/torch_gpu_1.5/lib/python3.7/site-packages/matplotlib/backends/backend_agg.py:183: RuntimeWarning: Glyph 65292 missing from current font.\n",
      "  font.set_text(s, 0, flags=flags)\n",
      "/home/zz/anaconda3/envs/torch_gpu_1.5/lib/python3.7/site-packages/matplotlib/backends/backend_agg.py:183: RuntimeWarning: Glyph 12290 missing from current font.\n",
      "  font.set_text(s, 0, flags=flags)\n",
      "/home/zz/anaconda3/envs/torch_gpu_1.5/lib/python3.7/site-packages/matplotlib/backends/backend_agg.py:183: RuntimeWarning: Glyph 65311 missing from current font.\n",
      "  font.set_text(s, 0, flags=flags)\n"
     ]
    },
    {
     "data": {
      "image/png": "[encoded data removed]",
      "text/plain": [
       "<Figure size 432x288 with 1 Axes>"
      ]
     },
     "metadata": {
      "needs_background": "light"
     },
     "output_type": "display_data"
    }
   ],
   "source": [
    "progress[['accuracy', 'f1_O', 'f1_，', 'f1_。', 'f1_？']].plot();\n",
    "# progress[['accuracy', 'f1_O', 'f1_PERIOD']].plot();"
   ]
  },
  {
   "cell_type": "markdown",
   "metadata": {},
   "source": [
    "### Model evaluation"
   ]
  },
  {
   "cell_type": "code",
   "execution_count": 13,
   "metadata": {},
   "outputs": [],
   "source": [
    "bert_punc.load_state_dict(torch.load(os.path.join(path, 'model')))\n",
    "bert_punc.eval();"
   ]
  },
  {
   "cell_type": "code",
   "execution_count": 14,
   "metadata": {},
   "outputs": [],
   "source": [
    "batch_size = 200\n",
    "data_loader_test = create_data_loader(X_test, y_test, False, batch_size)\n",
    "data_loader_test_asr = create_data_loader(X_test_asr, y_test_asr, False, batch_size)"
   ]
  },
  {
   "cell_type": "code",
   "execution_count": 15,
   "metadata": {},
   "outputs": [],
   "source": [
    "def predictions(data_loader):\n",
    "    y_pred = []\n",
    "    y_true = []\n",
    "    for inputs, labels in tqdm(data_loader, total=len(data_loader)):\n",
    "        with torch.no_grad():\n",
    "            inputs, labels = inputs.cuda(), labels.cuda()\n",
    "            output = bert_punc(inputs)\n",
    "            y_pred += list(output.argmax(dim=1).cpu().data.numpy().flatten())\n",
    "            y_true += list(labels.cpu().data.numpy().flatten())\n",
    "    return y_pred, y_true"
   ]
  },
  {
   "cell_type": "code",
   "execution_count": 16,
   "metadata": {},
   "outputs": [],
   "source": [
    "def evaluation(y_pred, y_test):\n",
    "    precision, recall, f1, _ = metrics.precision_recall_fscore_support(\n",
    "        y_test, y_pred, average=None, labels=[1, 2, 3])\n",
    "    overall = metrics.precision_recall_fscore_support(\n",
    "        y_test, y_pred, average='macro', labels=[1, 2, 3])\n",
    "    result = pd.DataFrame(\n",
    "        np.array([precision, recall, f1]), \n",
    "        columns=list(['O', 'COMMA', 'PERIOD', 'QUESTION'])[1:], \n",
    "        index=['Precision', 'Recall', 'F1']\n",
    "    )\n",
    "    result['OVERALL'] = overall[:3]\n",
    "    return result"
   ]
  },
  {
   "cell_type": "code",
   "execution_count": 17,
   "metadata": {},
   "outputs": [],
   "source": [
    "# def evaluation(y_pred, y_test):\n",
    "#     precision, recall, f1, _ = metrics.precision_recall_fscore_support(\n",
    "#         y_test, y_pred, average=None, labels=[1])\n",
    "#     overall = metrics.precision_recall_fscore_support(\n",
    "#         y_test, y_pred, average='macro', labels=[1])\n",
    "#     result = pd.DataFrame(\n",
    "#         np.array([precision, recall, f1]), \n",
    "#         columns=list(punctuation_enc.keys())[1:], \n",
    "#         index=['Precision', 'Recall', 'F1']\n",
    "#     )\n",
    "#     result['OVERALL'] = overall[:3]\n",
    "#     return result"
   ]
  },
  {
   "cell_type": "markdown",
   "metadata": {},
   "source": [
    "#### Test"
   ]
  },
  {
   "cell_type": "code",
   "execution_count": 18,
   "metadata": {},
   "outputs": [
    {
     "name": "stderr",
     "output_type": "stream",
     "text": [
      "100%|██████████| 4/4 [00:08<00:00,  2.03s/it]\n"
     ]
    },
    {
     "data": {
      "text/html": [
       "<div>\n",
       "<style scoped>\n",
       "    .dataframe tbody tr th:only-of-type {\n",
       "        vertical-align: middle;\n",
       "    }\n",
       "\n",
       "    .dataframe tbody tr th {\n",
       "        vertical-align: top;\n",
       "    }\n",
       "\n",
       "    .dataframe thead th {\n",
       "        text-align: right;\n",
       "    }\n",
       "</style>\n",
       "<table border=\"1\" class=\"dataframe\">\n",
       "  <thead>\n",
       "    <tr style=\"text-align: right;\">\n",
       "      <th></th>\n",
       "      <th>COMMA</th>\n",
       "      <th>PERIOD</th>\n",
       "      <th>QUESTION</th>\n",
       "      <th>OVERALL</th>\n",
       "    </tr>\n",
       "  </thead>\n",
       "  <tbody>\n",
       "    <tr>\n",
       "      <th>Precision</th>\n",
       "      <td>0.548017</td>\n",
       "      <td>0.665801</td>\n",
       "      <td>0.767857</td>\n",
       "      <td>0.660558</td>\n",
       "    </tr>\n",
       "    <tr>\n",
       "      <th>Recall</th>\n",
       "      <td>0.522858</td>\n",
       "      <td>0.848550</td>\n",
       "      <td>0.752918</td>\n",
       "      <td>0.708109</td>\n",
       "    </tr>\n",
       "    <tr>\n",
       "      <th>F1</th>\n",
       "      <td>0.535142</td>\n",
       "      <td>0.746149</td>\n",
       "      <td>0.760314</td>\n",
       "      <td>0.680535</td>\n",
       "    </tr>\n",
       "  </tbody>\n",
       "</table>\n",
       "</div>"
      ],
      "text/plain": [
       "              COMMA    PERIOD  QUESTION   OVERALL\n",
       "Precision  0.548017  0.665801  0.767857  0.660558\n",
       "Recall     0.522858  0.848550  0.752918  0.708109\n",
       "F1         0.535142  0.746149  0.760314  0.680535"
      ]
     },
     "execution_count": 18,
     "metadata": {},
     "output_type": "execute_result"
    }
   ],
   "source": [
    "y_pred_test, y_true_test = predictions(data_loader_test)\n",
    "eval_test = evaluation(y_pred_test, y_true_test)\n",
    "eval_test"
   ]
  },
  {
   "cell_type": "code",
   "execution_count": 19,
   "metadata": {},
   "outputs": [
    {
     "data": {
      "text/html": [
       "<div>\n",
       "<style scoped>\n",
       "    .dataframe tbody tr th:only-of-type {\n",
       "        vertical-align: middle;\n",
       "    }\n",
       "\n",
       "    .dataframe tbody tr th {\n",
       "        vertical-align: top;\n",
       "    }\n",
       "\n",
       "    .dataframe thead th {\n",
       "        text-align: right;\n",
       "    }\n",
       "</style>\n",
       "<table border=\"1\" class=\"dataframe\">\n",
       "  <thead>\n",
       "    <tr style=\"text-align: right;\">\n",
       "      <th></th>\n",
       "      <th>COMMA</th>\n",
       "      <th>PERIOD</th>\n",
       "      <th>QUESTION</th>\n",
       "      <th>OVERALL</th>\n",
       "    </tr>\n",
       "  </thead>\n",
       "  <tbody>\n",
       "    <tr>\n",
       "      <th>Precision</th>\n",
       "      <td>0.655</td>\n",
       "      <td>0.733</td>\n",
       "      <td>0.707</td>\n",
       "      <td>0.700</td>\n",
       "    </tr>\n",
       "    <tr>\n",
       "      <th>Recall</th>\n",
       "      <td>0.471</td>\n",
       "      <td>0.725</td>\n",
       "      <td>0.630</td>\n",
       "      <td>0.597</td>\n",
       "    </tr>\n",
       "    <tr>\n",
       "      <th>F1</th>\n",
       "      <td>0.548</td>\n",
       "      <td>0.729</td>\n",
       "      <td>0.667</td>\n",
       "      <td>0.644</td>\n",
       "    </tr>\n",
       "  </tbody>\n",
       "</table>\n",
       "</div>"
      ],
      "text/plain": [
       "           COMMA  PERIOD  QUESTION  OVERALL\n",
       "Precision  0.655   0.733     0.707    0.700\n",
       "Recall     0.471   0.725     0.630    0.597\n",
       "F1         0.548   0.729     0.667    0.644"
      ]
     },
     "execution_count": 19,
     "metadata": {},
     "output_type": "execute_result"
    }
   ],
   "source": [
    "# https://www.isca-speech.org/archive/Interspeech_2016/pdfs/1517.PDF\n",
    "ref_test = pd.DataFrame({\n",
    "    'COMMA':       [0.655, 0.471, 0.548],\n",
    "    'PERIOD':       [0.733, 0.725, 0.729],\n",
    "    'QUESTION':       [0.707, 0.630, 0.667],\n",
    "    'OVERALL':  [0.700, 0.597, 0.644]\n",
    "}, index=['Precision', 'Recall', 'F1'])\n",
    "ref_test"
   ]
  },
  {
   "cell_type": "code",
   "execution_count": 20,
   "metadata": {},
   "outputs": [
    {
     "data": {
      "image/png": "[encoded data removed]",
      "text/plain": [
       "<Figure size 864x288 with 1 Axes>"
      ]
     },
     "metadata": {
      "needs_background": "light"
     },
     "output_type": "display_data"
    },
    {
     "data": {
      "image/png": "[encoded data removed]",
      "text/plain": [
       "<Figure size 864x288 with 1 Axes>"
      ]
     },
     "metadata": {
      "needs_background": "light"
     },
     "output_type": "display_data"
    },
    {
     "data": {
      "image/png": "[encoded data removed]",
      "text/plain": [
       "<Figure size 864x288 with 1 Axes>"
      ]
     },
     "metadata": {
      "needs_background": "light"
     },
     "output_type": "display_data"
    },
    {
     "data": {
      "image/png": "[encoded data removed]",
      "text/plain": [
       "<Figure size 864x288 with 1 Axes>"
      ]
     },
     "metadata": {
      "needs_background": "light"
     },
     "output_type": "display_data"
    }
   ],
   "source": [
    "for col in ref_test.columns:\n",
    "    pd.DataFrame({'Reference': ref_test[col], 'BertPunc': eval_test[col]}).plot.bar(\n",
    "        title=col, figsize=(12, 4))"
   ]
  },
  {
   "cell_type": "markdown",
   "metadata": {},
   "source": [
    "#### Test ASR"
   ]
  },
  {
   "cell_type": "code",
   "execution_count": 20,
   "metadata": {},
   "outputs": [
    {
     "name": "stderr",
     "output_type": "stream",
     "text": [
      "100%|██████████| 14/14 [00:09<00:00,  1.64it/s]\n"
     ]
    },
    {
     "data": {
      "text/html": [
       "<div>\n",
       "<style scoped>\n",
       "    .dataframe tbody tr th:only-of-type {\n",
       "        vertical-align: middle;\n",
       "    }\n",
       "\n",
       "    .dataframe tbody tr th {\n",
       "        vertical-align: top;\n",
       "    }\n",
       "\n",
       "    .dataframe thead th {\n",
       "        text-align: right;\n",
       "    }\n",
       "</style>\n",
       "<table border=\"1\" class=\"dataframe\">\n",
       "  <thead>\n",
       "    <tr style=\"text-align: right;\">\n",
       "      <th></th>\n",
       "      <th>COMMA</th>\n",
       "      <th>PERIOD</th>\n",
       "      <th>QUESTION</th>\n",
       "      <th>OVERALL</th>\n",
       "    </tr>\n",
       "  </thead>\n",
       "  <tbody>\n",
       "    <tr>\n",
       "      <th>Precision</th>\n",
       "      <td>0.485539</td>\n",
       "      <td>0.771995</td>\n",
       "      <td>0.469388</td>\n",
       "      <td>0.575641</td>\n",
       "    </tr>\n",
       "    <tr>\n",
       "      <th>Recall</th>\n",
       "      <td>0.694236</td>\n",
       "      <td>0.770087</td>\n",
       "      <td>0.657143</td>\n",
       "      <td>0.707155</td>\n",
       "    </tr>\n",
       "    <tr>\n",
       "      <th>F1</th>\n",
       "      <td>0.571429</td>\n",
       "      <td>0.771040</td>\n",
       "      <td>0.547619</td>\n",
       "      <td>0.630029</td>\n",
       "    </tr>\n",
       "  </tbody>\n",
       "</table>\n",
       "</div>"
      ],
      "text/plain": [
       "              COMMA    PERIOD  QUESTION   OVERALL\n",
       "Precision  0.485539  0.771995  0.469388  0.575641\n",
       "Recall     0.694236  0.770087  0.657143  0.707155\n",
       "F1         0.571429  0.771040  0.547619  0.630029"
      ]
     },
     "execution_count": 20,
     "metadata": {},
     "output_type": "execute_result"
    }
   ],
   "source": [
    "y_pred_test_asr, y_true_test_asr = predictions(data_loader_test_asr)\n",
    "eval_test_asr = evaluation(y_pred_test_asr, y_true_test_asr)\n",
    "eval_test_asr"
   ]
  },
  {
   "cell_type": "code",
   "execution_count": 21,
   "metadata": {},
   "outputs": [
    {
     "data": {
      "text/html": [
       "<div>\n",
       "<style scoped>\n",
       "    .dataframe tbody tr th:only-of-type {\n",
       "        vertical-align: middle;\n",
       "    }\n",
       "\n",
       "    .dataframe tbody tr th {\n",
       "        vertical-align: top;\n",
       "    }\n",
       "\n",
       "    .dataframe thead th {\n",
       "        text-align: right;\n",
       "    }\n",
       "</style>\n",
       "<table border=\"1\" class=\"dataframe\">\n",
       "  <thead>\n",
       "    <tr style=\"text-align: right;\">\n",
       "      <th></th>\n",
       "      <th>COMMA</th>\n",
       "      <th>PERIOD</th>\n",
       "      <th>QUESTION</th>\n",
       "      <th>OVERALL</th>\n",
       "    </tr>\n",
       "  </thead>\n",
       "  <tbody>\n",
       "    <tr>\n",
       "      <th>Precision</th>\n",
       "      <td>0.596</td>\n",
       "      <td>0.707</td>\n",
       "      <td>0.607</td>\n",
       "      <td>0.660</td>\n",
       "    </tr>\n",
       "    <tr>\n",
       "      <th>Recall</th>\n",
       "      <td>0.429</td>\n",
       "      <td>0.720</td>\n",
       "      <td>0.486</td>\n",
       "      <td>0.573</td>\n",
       "    </tr>\n",
       "    <tr>\n",
       "      <th>F1</th>\n",
       "      <td>0.499</td>\n",
       "      <td>0.714</td>\n",
       "      <td>0.540</td>\n",
       "      <td>0.614</td>\n",
       "    </tr>\n",
       "  </tbody>\n",
       "</table>\n",
       "</div>"
      ],
      "text/plain": [
       "           COMMA  PERIOD  QUESTION  OVERALL\n",
       "Precision  0.596   0.707     0.607    0.660\n",
       "Recall     0.429   0.720     0.486    0.573\n",
       "F1         0.499   0.714     0.540    0.614"
      ]
     },
     "execution_count": 21,
     "metadata": {},
     "output_type": "execute_result"
    }
   ],
   "source": [
    "# https://www.isca-speech.org/archive/Interspeech_2016/pdfs/1517.PDF\n",
    "ref_test_asr = pd.DataFrame({\n",
    "    'COMMA':    [0.596, 0.429, 0.499],\n",
    "    'PERIOD':   [0.707, 0.720, 0.714],\n",
    "    'QUESTION': [0.607, 0.486, 0.540],\n",
    "    'OVERALL':  [0.660, 0.573, 0.614]\n",
    "}, index=['Precision', 'Recall', 'F1'])\n",
    "ref_test_asr"
   ]
  },
  {
   "cell_type": "code",
   "execution_count": 22,
   "metadata": {},
   "outputs": [
    {
     "data": {
      "image/png": "[encoded data removed]",
      "text/plain": [
       "<Figure size 864x288 with 1 Axes>"
      ]
     },
     "metadata": {
      "needs_background": "light"
     },
     "output_type": "display_data"
    },
    {
     "data": {
      "image/png": "[encoded data removed]",
      "text/plain": [
       "<Figure size 864x288 with 1 Axes>"
      ]
     },
     "metadata": {
      "needs_background": "light"
     },
     "output_type": "display_data"
    },
    {
     "data": {
      "image/png": "[encoded data removed]",
      "text/plain": [
       "<Figure size 864x288 with 1 Axes>"
      ]
     },
     "metadata": {
      "needs_background": "light"
     },
     "output_type": "display_data"
    },
    {
     "data": {
      "image/png": "[encoded data removed]",
      "text/plain": [
       "<Figure size 864x288 with 1 Axes>"
      ]
     },
     "metadata": {
      "needs_background": "light"
     },
     "output_type": "display_data"
    }
   ],
   "source": [
    "for col in ref_test_asr.columns:\n",
    "    pd.DataFrame({'Reference': ref_test_asr[col], 'BertPunc': eval_test_asr[col]}).plot.bar(\n",
    "        title=col, figsize=(12, 4))"
   ]
  },
  {
   "cell_type": "code",
   "execution_count": null,
   "metadata": {},
   "outputs": [],
   "source": []
  }
 ],
 "metadata": {
  "kernelspec": {
   "display_name": "torch_gpu_1.5",
   "language": "python",
   "name": "torch_gpu_1.5"
  },
  "language_info": {
   "codemirror_mode": {
    "name": "ipython",
    "version": 3
   },
   "file_extension": ".py",
   "mimetype": "text/x-python",
   "name": "python",
   "nbconvert_exporter": "python",
   "pygments_lexer": "ipython3",
   "version": "3.7.7"
  }
 },
 "nbformat": 4,
 "nbformat_minor": 2
}
