{
 "cells": [
  {
   "cell_type": "code",
   "execution_count": 1,
   "metadata": {},
   "outputs": [],
   "source": [
    "import pandas as pd\n",
    "import numpy as np\n",
    "from glob import glob\n",
    "from transformers import BertTokenizer\n",
    "import torch\n",
    "from torch import nn\n",
    "%matplotlib inline\n",
    "import json\n",
    "from tqdm import tqdm\n",
    "from sklearn import metrics\n",
    "import os\n",
    "\n",
    "from model_1_to_1 import (\n",
    "    BertChineseLinearPunc,\n",
    "    BertChineseCNNreplaceBert,\n",
    "    BertChineseBigStrideCNN,\n",
    "    BertChineseSlimCNNBert,\n",
    "    BertChineseLSTMLinearPunc,\n",
    ")\n",
    "from data_1_to_1 import load_file, preprocess_data, create_data_loader"
   ]
  },
  {
   "cell_type": "markdown",
   "metadata": {},
   "source": [
    "### Model path"
   ]
  },
  {
   "cell_type": "code",
   "execution_count": 2,
   "metadata": {},
   "outputs": [
    {
     "data": {
      "text/plain": [
       "['models/bert-base-uncased.tar.gz',\n",
       " 'models/config.json',\n",
       " 'models/pytorch_model.bin',\n",
       " 'models/vocab.txt',\n",
       " 'models/1_albert_dense_noRnn',\n",
       " 'models/1_albert_dense_rnn',\n",
       " 'models/1_albert_small_dense_hidden_UniRNN',\n",
       " 'models/albert_chinese_small',\n",
       " 'models/albert_chinese_tiny',\n",
       " 'models/albert_en',\n",
       " 'models/bart_tiny',\n",
       " 'models/bert_distill_chinese',\n",
       " 'models/distillbert',\n",
       " 'models/distillroberta_tiny',\n",
       " 'models/2-BertChineseLinearPunc',\n",
       " 'models/3-BertChinese4lyrHiddenCNN',\n",
       " 'models/2-ChineseRobertaCNNlinearDivideConcatPunc_1cnn_k3_20',\n",
       " 'models/2-ChineseRobertaCNNlinearDividedPunc',\n",
       " 'models/3-BertChineseBigStrideCNN',\n",
       " 'models/chinese-roberta-wwm-ext',\n",
       " 'models/2-result-bert-chinese-linear',\n",
       " 'models/2_ChineseRobertaNmlCNNLstmPunc',\n",
       " 'models/2_ChineseRobertaCNNnoBnLstmPunc',\n",
       " 'models/bert_base_chinese',\n",
       " 'models/2-result-ChineseRobertaRNNnewLinearPunc',\n",
       " 'models/2-ChineseRobertaNoCNNLstmPunc',\n",
       " 'models/3-SegBertChineseLinearPunc',\n",
       " 'models/2-ChineseRobertaCNNLstmPunc',\n",
       " 'models/2-ChineseRobertaCNNlinearDivideConcatPunc',\n",
       " 'models/2-ChineseRobertaCNNlinearDivideConcatPunc_multiLinear',\n",
       " 'models/2-ChineseRobertaCNNlinearDividedBertPunc',\n",
       " 'models/2-BertChineseLSTMLinearPunc',\n",
       " 'models/2-BertChineseLinearPunc_len200_bs_10',\n",
       " 'models/2-BertChineseLinearPunc_len200_bs20',\n",
       " 'models/2-BertChineseLinearPunc_len300_bs10',\n",
       " 'models/2-BertChineseLinearPunc_len150_bs20',\n",
       " 'models/2-BertChineseCNNlinearDivideConcatPunc',\n",
       " 'models/2-BertChineseCNNlinearDividedBertPunc',\n",
       " 'models/2_2_BertChineseLinearPunc_200_10',\n",
       " 'models/2-BertChineseCNNreplaceBert_len200_bs10',\n",
       " 'models/2-BertChineseSlimCNNBert_len200_bs_10',\n",
       " 'models/3_BertChineseSlimCNNBert_len200_bs10',\n",
       " 'models/3-BertChinese4lyrHiddenLinear',\n",
       " 'models/3-BertChineseSegHiddenLinearPunc',\n",
       " 'models/iwslt-BertChineseLinearPunc',\n",
       " 'models/iwslt-BertChineseSlimCNNBert',\n",
       " 'models/iwslt-BertChineseLSTMLinearPunc',\n",
       " 'models/iwslt-BertChineseSlimCNNBertLSTM',\n",
       " 'models/iwslt-BertChineseEmbSlimCNNBert',\n",
       " 'models/iwslt-BertChineseEmbSlimCNNlstmBert']"
      ]
     },
     "execution_count": 2,
     "metadata": {},
     "output_type": "execute_result"
    }
   ],
   "source": [
    "glob('models/*')"
   ]
  },
  {
   "cell_type": "code",
   "execution_count": 3,
   "metadata": {},
   "outputs": [],
   "source": [
    "path = 'models/iwslt-BertChineseLSTMLinearPunc'"
   ]
  },
  {
   "cell_type": "markdown",
   "metadata": {},
   "source": [
    "### Prepare"
   ]
  },
  {
   "cell_type": "code",
   "execution_count": 4,
   "metadata": {},
   "outputs": [],
   "source": [
    "data_test = load_file('data/zh_iwslt/test_valid')\n",
    "data_test_asr = load_file('data/zh_iwslt/test_valid')\n",
    "# data_test = load_file('data/zh_pfdsj_3punc/test')\n",
    "# data_test_asr = load_file('data/zh_pfdsj_3punc//test')\n",
    "# data_test = load_file('data/NPR-podcasts/test')"
   ]
  },
  {
   "cell_type": "code",
   "execution_count": 5,
   "metadata": {},
   "outputs": [
    {
     "data": {
      "text/plain": [
       "{'segment_size': 100,\n",
       " 'dropout': 0.3,\n",
       " 'epochs_top': 30,\n",
       " 'iterations_top': 3,\n",
       " 'batch_size_top': 40,\n",
       " 'learning_rate_top': 1e-05,\n",
       " 'epochs_all': 30,\n",
       " 'iterations_all': 3,\n",
       " 'batch_size_all': 10,\n",
       " 'learning_rate_all': 1e-05,\n",
       " 'seq_len': 200}"
      ]
     },
     "execution_count": 5,
     "metadata": {},
     "output_type": "execute_result"
    }
   ],
   "source": [
    "with open(os.path.join(path, 'hyperparameters.json'), 'r') as f:\n",
    "    hyperparameters = json.load(f)\n",
    "hyperparameters"
   ]
  },
  {
   "cell_type": "code",
   "execution_count": 6,
   "metadata": {},
   "outputs": [],
   "source": [
    "tokenizer = BertTokenizer.from_pretrained(os.path.join(\"models\", 'bert_base_chinese'), do_lower_case=True)\n",
    "\n",
    "punctuation_enc = {\n",
    "    'O': 0,\n",
    "    '，': 1,\n",
    "    '。': 2,\n",
    "    '？': 3\n",
    "}\n",
    "\n",
    "# punctuation_enc = {\n",
    "#     'O': 0,\n",
    "#     'PERIOD': 1\n",
    "# }\n",
    "\n",
    "# segment_size = hyperparameters['segment_size']\n",
    "segment_size = 200"
   ]
  },
  {
   "cell_type": "code",
   "execution_count": 7,
   "metadata": {},
   "outputs": [],
   "source": [
    "X_test, y_test = preprocess_data(data_test, tokenizer, punctuation_enc, segment_size)\n",
    "X_test_asr, y_test_asr = preprocess_data(data_test_asr, tokenizer, punctuation_enc, segment_size)"
   ]
  },
  {
   "cell_type": "code",
   "execution_count": 8,
   "metadata": {},
   "outputs": [],
   "source": [
    "device = torch.device(\"cuda:0\" if torch.cuda.is_available() else \"cpu\")"
   ]
  },
  {
   "cell_type": "code",
   "execution_count": 9,
   "metadata": {},
   "outputs": [
    {
     "name": "stdout",
     "output_type": "stream",
     "text": [
      "fucking code**************\n"
     ]
    }
   ],
   "source": [
    "output_size = len(punctuation_enc)\n",
    "dropout = hyperparameters['dropout']\n",
    "bert_punc = BertChineseLSTMLinearPunc(segment_size, output_size, dropout, None).to(device)"
   ]
  },
  {
   "cell_type": "markdown",
   "metadata": {},
   "source": [
    "### Model progress"
   ]
  },
  {
   "cell_type": "code",
   "execution_count": 10,
   "metadata": {
    "scrolled": false
   },
   "outputs": [
    {
     "data": {
      "text/html": [
       "<div>\n",
       "<style scoped>\n",
       "    .dataframe tbody tr th:only-of-type {\n",
       "        vertical-align: middle;\n",
       "    }\n",
       "\n",
       "    .dataframe tbody tr th {\n",
       "        vertical-align: top;\n",
       "    }\n",
       "\n",
       "    .dataframe thead th {\n",
       "        text-align: right;\n",
       "    }\n",
       "</style>\n",
       "<table border=\"1\" class=\"dataframe\">\n",
       "  <thead>\n",
       "    <tr style=\"text-align: right;\">\n",
       "      <th></th>\n",
       "      <th>time</th>\n",
       "      <th>epoch</th>\n",
       "      <th>iteration</th>\n",
       "      <th>training loss</th>\n",
       "      <th>loss</th>\n",
       "      <th>accuracy</th>\n",
       "      <th>f1_O</th>\n",
       "      <th>f1_，</th>\n",
       "      <th>f1_。</th>\n",
       "      <th>f1_？</th>\n",
       "    </tr>\n",
       "  </thead>\n",
       "  <tbody>\n",
       "    <tr>\n",
       "      <th>0</th>\n",
       "      <td>2020-07-06 16:44:07</td>\n",
       "      <td>1</td>\n",
       "      <td>1</td>\n",
       "      <td>0.3387</td>\n",
       "      <td>0.3275</td>\n",
       "      <td>0.9252</td>\n",
       "      <td>0.9611</td>\n",
       "      <td>0.0000</td>\n",
       "      <td>0.0000</td>\n",
       "      <td>0.0000</td>\n",
       "    </tr>\n",
       "    <tr>\n",
       "      <th>1</th>\n",
       "      <td>2020-07-06 16:47:42</td>\n",
       "      <td>1</td>\n",
       "      <td>2</td>\n",
       "      <td>0.1026</td>\n",
       "      <td>0.1361</td>\n",
       "      <td>0.9468</td>\n",
       "      <td>0.9798</td>\n",
       "      <td>0.2410</td>\n",
       "      <td>0.6480</td>\n",
       "      <td>0.0000</td>\n",
       "    </tr>\n",
       "    <tr>\n",
       "      <th>2</th>\n",
       "      <td>2020-07-06 16:51:15</td>\n",
       "      <td>1</td>\n",
       "      <td>3</td>\n",
       "      <td>0.1234</td>\n",
       "      <td>0.1210</td>\n",
       "      <td>0.9520</td>\n",
       "      <td>0.9819</td>\n",
       "      <td>0.3533</td>\n",
       "      <td>0.7013</td>\n",
       "      <td>0.0488</td>\n",
       "    </tr>\n",
       "    <tr>\n",
       "      <th>3</th>\n",
       "      <td>2020-07-06 16:54:53</td>\n",
       "      <td>2</td>\n",
       "      <td>1</td>\n",
       "      <td>0.1140</td>\n",
       "      <td>0.1145</td>\n",
       "      <td>0.9555</td>\n",
       "      <td>0.9830</td>\n",
       "      <td>0.4525</td>\n",
       "      <td>0.7201</td>\n",
       "      <td>0.5039</td>\n",
       "    </tr>\n",
       "    <tr>\n",
       "      <th>4</th>\n",
       "      <td>2020-07-06 16:58:27</td>\n",
       "      <td>2</td>\n",
       "      <td>2</td>\n",
       "      <td>0.1156</td>\n",
       "      <td>0.1097</td>\n",
       "      <td>0.9564</td>\n",
       "      <td>0.9834</td>\n",
       "      <td>0.4996</td>\n",
       "      <td>0.7263</td>\n",
       "      <td>0.5936</td>\n",
       "    </tr>\n",
       "    <tr>\n",
       "      <th>5</th>\n",
       "      <td>2020-07-06 17:02:01</td>\n",
       "      <td>2</td>\n",
       "      <td>3</td>\n",
       "      <td>0.1070</td>\n",
       "      <td>0.1076</td>\n",
       "      <td>0.9564</td>\n",
       "      <td>0.9836</td>\n",
       "      <td>0.5209</td>\n",
       "      <td>0.7197</td>\n",
       "      <td>0.6331</td>\n",
       "    </tr>\n",
       "    <tr>\n",
       "      <th>6</th>\n",
       "      <td>2020-07-06 17:05:33</td>\n",
       "      <td>3</td>\n",
       "      <td>1</td>\n",
       "      <td>0.1058</td>\n",
       "      <td>0.1072</td>\n",
       "      <td>0.9573</td>\n",
       "      <td>0.9835</td>\n",
       "      <td>0.5240</td>\n",
       "      <td>0.7380</td>\n",
       "      <td>0.6465</td>\n",
       "    </tr>\n",
       "    <tr>\n",
       "      <th>7</th>\n",
       "      <td>2020-07-06 17:09:09</td>\n",
       "      <td>3</td>\n",
       "      <td>2</td>\n",
       "      <td>0.0947</td>\n",
       "      <td>0.1060</td>\n",
       "      <td>0.9578</td>\n",
       "      <td>0.9837</td>\n",
       "      <td>0.5208</td>\n",
       "      <td>0.7385</td>\n",
       "      <td>0.6214</td>\n",
       "    </tr>\n",
       "    <tr>\n",
       "      <th>8</th>\n",
       "      <td>2020-07-06 17:12:43</td>\n",
       "      <td>3</td>\n",
       "      <td>3</td>\n",
       "      <td>0.1117</td>\n",
       "      <td>0.1036</td>\n",
       "      <td>0.9587</td>\n",
       "      <td>0.9839</td>\n",
       "      <td>0.5076</td>\n",
       "      <td>0.7420</td>\n",
       "      <td>0.6518</td>\n",
       "    </tr>\n",
       "    <tr>\n",
       "      <th>9</th>\n",
       "      <td>2020-07-06 17:16:08</td>\n",
       "      <td>4</td>\n",
       "      <td>1</td>\n",
       "      <td>0.0994</td>\n",
       "      <td>0.1072</td>\n",
       "      <td>0.9573</td>\n",
       "      <td>0.9835</td>\n",
       "      <td>0.5328</td>\n",
       "      <td>0.7403</td>\n",
       "      <td>0.6542</td>\n",
       "    </tr>\n",
       "    <tr>\n",
       "      <th>10</th>\n",
       "      <td>2020-07-06 17:19:33</td>\n",
       "      <td>4</td>\n",
       "      <td>2</td>\n",
       "      <td>0.1039</td>\n",
       "      <td>0.1044</td>\n",
       "      <td>0.9585</td>\n",
       "      <td>0.9840</td>\n",
       "      <td>0.5196</td>\n",
       "      <td>0.7415</td>\n",
       "      <td>0.6581</td>\n",
       "    </tr>\n",
       "    <tr>\n",
       "      <th>11</th>\n",
       "      <td>2020-07-06 17:22:59</td>\n",
       "      <td>4</td>\n",
       "      <td>3</td>\n",
       "      <td>0.1028</td>\n",
       "      <td>0.1040</td>\n",
       "      <td>0.9586</td>\n",
       "      <td>0.9839</td>\n",
       "      <td>0.5097</td>\n",
       "      <td>0.7406</td>\n",
       "      <td>0.6593</td>\n",
       "    </tr>\n",
       "    <tr>\n",
       "      <th>12</th>\n",
       "      <td>2020-07-06 17:26:25</td>\n",
       "      <td>5</td>\n",
       "      <td>1</td>\n",
       "      <td>0.0814</td>\n",
       "      <td>0.1087</td>\n",
       "      <td>0.9587</td>\n",
       "      <td>0.9836</td>\n",
       "      <td>0.4730</td>\n",
       "      <td>0.7421</td>\n",
       "      <td>0.6555</td>\n",
       "    </tr>\n",
       "    <tr>\n",
       "      <th>13</th>\n",
       "      <td>2020-07-06 17:29:51</td>\n",
       "      <td>5</td>\n",
       "      <td>2</td>\n",
       "      <td>0.0709</td>\n",
       "      <td>0.1052</td>\n",
       "      <td>0.9588</td>\n",
       "      <td>0.9838</td>\n",
       "      <td>0.4915</td>\n",
       "      <td>0.7434</td>\n",
       "      <td>0.6618</td>\n",
       "    </tr>\n",
       "    <tr>\n",
       "      <th>14</th>\n",
       "      <td>2020-07-06 17:33:18</td>\n",
       "      <td>5</td>\n",
       "      <td>3</td>\n",
       "      <td>0.0853</td>\n",
       "      <td>0.1069</td>\n",
       "      <td>0.9581</td>\n",
       "      <td>0.9838</td>\n",
       "      <td>0.5337</td>\n",
       "      <td>0.7415</td>\n",
       "      <td>0.6633</td>\n",
       "    </tr>\n",
       "    <tr>\n",
       "      <th>15</th>\n",
       "      <td>2020-07-06 17:36:43</td>\n",
       "      <td>6</td>\n",
       "      <td>1</td>\n",
       "      <td>0.0721</td>\n",
       "      <td>0.1083</td>\n",
       "      <td>0.9588</td>\n",
       "      <td>0.9836</td>\n",
       "      <td>0.4946</td>\n",
       "      <td>0.7426</td>\n",
       "      <td>0.6381</td>\n",
       "    </tr>\n",
       "    <tr>\n",
       "      <th>16</th>\n",
       "      <td>2020-07-06 17:40:10</td>\n",
       "      <td>6</td>\n",
       "      <td>2</td>\n",
       "      <td>0.0860</td>\n",
       "      <td>0.1091</td>\n",
       "      <td>0.9578</td>\n",
       "      <td>0.9836</td>\n",
       "      <td>0.5315</td>\n",
       "      <td>0.7330</td>\n",
       "      <td>0.6672</td>\n",
       "    </tr>\n",
       "    <tr>\n",
       "      <th>17</th>\n",
       "      <td>2020-07-06 17:43:37</td>\n",
       "      <td>6</td>\n",
       "      <td>3</td>\n",
       "      <td>0.0897</td>\n",
       "      <td>0.1076</td>\n",
       "      <td>0.9589</td>\n",
       "      <td>0.9836</td>\n",
       "      <td>0.4839</td>\n",
       "      <td>0.7441</td>\n",
       "      <td>0.6707</td>\n",
       "    </tr>\n",
       "    <tr>\n",
       "      <th>18</th>\n",
       "      <td>2020-07-06 17:47:02</td>\n",
       "      <td>7</td>\n",
       "      <td>1</td>\n",
       "      <td>0.0829</td>\n",
       "      <td>0.1127</td>\n",
       "      <td>0.9579</td>\n",
       "      <td>0.9836</td>\n",
       "      <td>0.5246</td>\n",
       "      <td>0.7416</td>\n",
       "      <td>0.6604</td>\n",
       "    </tr>\n",
       "    <tr>\n",
       "      <th>19</th>\n",
       "      <td>2020-07-06 17:50:28</td>\n",
       "      <td>7</td>\n",
       "      <td>2</td>\n",
       "      <td>0.0854</td>\n",
       "      <td>0.1124</td>\n",
       "      <td>0.9577</td>\n",
       "      <td>0.9836</td>\n",
       "      <td>0.5310</td>\n",
       "      <td>0.7429</td>\n",
       "      <td>0.6702</td>\n",
       "    </tr>\n",
       "    <tr>\n",
       "      <th>20</th>\n",
       "      <td>2020-07-06 17:53:53</td>\n",
       "      <td>7</td>\n",
       "      <td>3</td>\n",
       "      <td>0.0684</td>\n",
       "      <td>0.1122</td>\n",
       "      <td>0.9568</td>\n",
       "      <td>0.9831</td>\n",
       "      <td>0.5376</td>\n",
       "      <td>0.7433</td>\n",
       "      <td>0.6611</td>\n",
       "    </tr>\n",
       "    <tr>\n",
       "      <th>21</th>\n",
       "      <td>2020-07-06 17:57:19</td>\n",
       "      <td>8</td>\n",
       "      <td>1</td>\n",
       "      <td>0.0631</td>\n",
       "      <td>0.1165</td>\n",
       "      <td>0.9575</td>\n",
       "      <td>0.9834</td>\n",
       "      <td>0.5246</td>\n",
       "      <td>0.7346</td>\n",
       "      <td>0.6667</td>\n",
       "    </tr>\n",
       "    <tr>\n",
       "      <th>22</th>\n",
       "      <td>2020-07-06 18:00:45</td>\n",
       "      <td>8</td>\n",
       "      <td>2</td>\n",
       "      <td>0.0614</td>\n",
       "      <td>0.1153</td>\n",
       "      <td>0.9582</td>\n",
       "      <td>0.9830</td>\n",
       "      <td>0.4782</td>\n",
       "      <td>0.7397</td>\n",
       "      <td>0.6698</td>\n",
       "    </tr>\n",
       "    <tr>\n",
       "      <th>23</th>\n",
       "      <td>2020-07-06 18:04:11</td>\n",
       "      <td>8</td>\n",
       "      <td>3</td>\n",
       "      <td>0.0679</td>\n",
       "      <td>0.1133</td>\n",
       "      <td>0.9584</td>\n",
       "      <td>0.9835</td>\n",
       "      <td>0.5056</td>\n",
       "      <td>0.7413</td>\n",
       "      <td>0.6622</td>\n",
       "    </tr>\n",
       "    <tr>\n",
       "      <th>24</th>\n",
       "      <td>2020-07-06 18:07:36</td>\n",
       "      <td>9</td>\n",
       "      <td>1</td>\n",
       "      <td>0.0810</td>\n",
       "      <td>0.1180</td>\n",
       "      <td>0.9571</td>\n",
       "      <td>0.9828</td>\n",
       "      <td>0.5245</td>\n",
       "      <td>0.7348</td>\n",
       "      <td>0.6721</td>\n",
       "    </tr>\n",
       "    <tr>\n",
       "      <th>25</th>\n",
       "      <td>2020-07-06 18:11:03</td>\n",
       "      <td>9</td>\n",
       "      <td>2</td>\n",
       "      <td>0.0613</td>\n",
       "      <td>0.1199</td>\n",
       "      <td>0.9570</td>\n",
       "      <td>0.9833</td>\n",
       "      <td>0.5239</td>\n",
       "      <td>0.7392</td>\n",
       "      <td>0.6654</td>\n",
       "    </tr>\n",
       "    <tr>\n",
       "      <th>26</th>\n",
       "      <td>2020-07-06 18:14:30</td>\n",
       "      <td>9</td>\n",
       "      <td>3</td>\n",
       "      <td>0.0748</td>\n",
       "      <td>0.1192</td>\n",
       "      <td>0.9576</td>\n",
       "      <td>0.9834</td>\n",
       "      <td>0.5162</td>\n",
       "      <td>0.7389</td>\n",
       "      <td>0.6661</td>\n",
       "    </tr>\n",
       "    <tr>\n",
       "      <th>27</th>\n",
       "      <td>2020-07-06 18:17:55</td>\n",
       "      <td>10</td>\n",
       "      <td>1</td>\n",
       "      <td>0.0587</td>\n",
       "      <td>0.1259</td>\n",
       "      <td>0.9571</td>\n",
       "      <td>0.9835</td>\n",
       "      <td>0.5195</td>\n",
       "      <td>0.7268</td>\n",
       "      <td>0.6671</td>\n",
       "    </tr>\n",
       "  </tbody>\n",
       "</table>\n",
       "</div>"
      ],
      "text/plain": [
       "                   time  epoch  iteration  training loss    loss  accuracy  \\\n",
       "0   2020-07-06 16:44:07      1          1         0.3387  0.3275    0.9252   \n",
       "1   2020-07-06 16:47:42      1          2         0.1026  0.1361    0.9468   \n",
       "2   2020-07-06 16:51:15      1          3         0.1234  0.1210    0.9520   \n",
       "3   2020-07-06 16:54:53      2          1         0.1140  0.1145    0.9555   \n",
       "4   2020-07-06 16:58:27      2          2         0.1156  0.1097    0.9564   \n",
       "5   2020-07-06 17:02:01      2          3         0.1070  0.1076    0.9564   \n",
       "6   2020-07-06 17:05:33      3          1         0.1058  0.1072    0.9573   \n",
       "7   2020-07-06 17:09:09      3          2         0.0947  0.1060    0.9578   \n",
       "8   2020-07-06 17:12:43      3          3         0.1117  0.1036    0.9587   \n",
       "9   2020-07-06 17:16:08      4          1         0.0994  0.1072    0.9573   \n",
       "10  2020-07-06 17:19:33      4          2         0.1039  0.1044    0.9585   \n",
       "11  2020-07-06 17:22:59      4          3         0.1028  0.1040    0.9586   \n",
       "12  2020-07-06 17:26:25      5          1         0.0814  0.1087    0.9587   \n",
       "13  2020-07-06 17:29:51      5          2         0.0709  0.1052    0.9588   \n",
       "14  2020-07-06 17:33:18      5          3         0.0853  0.1069    0.9581   \n",
       "15  2020-07-06 17:36:43      6          1         0.0721  0.1083    0.9588   \n",
       "16  2020-07-06 17:40:10      6          2         0.0860  0.1091    0.9578   \n",
       "17  2020-07-06 17:43:37      6          3         0.0897  0.1076    0.9589   \n",
       "18  2020-07-06 17:47:02      7          1         0.0829  0.1127    0.9579   \n",
       "19  2020-07-06 17:50:28      7          2         0.0854  0.1124    0.9577   \n",
       "20  2020-07-06 17:53:53      7          3         0.0684  0.1122    0.9568   \n",
       "21  2020-07-06 17:57:19      8          1         0.0631  0.1165    0.9575   \n",
       "22  2020-07-06 18:00:45      8          2         0.0614  0.1153    0.9582   \n",
       "23  2020-07-06 18:04:11      8          3         0.0679  0.1133    0.9584   \n",
       "24  2020-07-06 18:07:36      9          1         0.0810  0.1180    0.9571   \n",
       "25  2020-07-06 18:11:03      9          2         0.0613  0.1199    0.9570   \n",
       "26  2020-07-06 18:14:30      9          3         0.0748  0.1192    0.9576   \n",
       "27  2020-07-06 18:17:55     10          1         0.0587  0.1259    0.9571   \n",
       "\n",
       "      f1_O    f1_，    f1_。    f1_？  \n",
       "0   0.9611  0.0000  0.0000  0.0000  \n",
       "1   0.9798  0.2410  0.6480  0.0000  \n",
       "2   0.9819  0.3533  0.7013  0.0488  \n",
       "3   0.9830  0.4525  0.7201  0.5039  \n",
       "4   0.9834  0.4996  0.7263  0.5936  \n",
       "5   0.9836  0.5209  0.7197  0.6331  \n",
       "6   0.9835  0.5240  0.7380  0.6465  \n",
       "7   0.9837  0.5208  0.7385  0.6214  \n",
       "8   0.9839  0.5076  0.7420  0.6518  \n",
       "9   0.9835  0.5328  0.7403  0.6542  \n",
       "10  0.9840  0.5196  0.7415  0.6581  \n",
       "11  0.9839  0.5097  0.7406  0.6593  \n",
       "12  0.9836  0.4730  0.7421  0.6555  \n",
       "13  0.9838  0.4915  0.7434  0.6618  \n",
       "14  0.9838  0.5337  0.7415  0.6633  \n",
       "15  0.9836  0.4946  0.7426  0.6381  \n",
       "16  0.9836  0.5315  0.7330  0.6672  \n",
       "17  0.9836  0.4839  0.7441  0.6707  \n",
       "18  0.9836  0.5246  0.7416  0.6604  \n",
       "19  0.9836  0.5310  0.7429  0.6702  \n",
       "20  0.9831  0.5376  0.7433  0.6611  \n",
       "21  0.9834  0.5246  0.7346  0.6667  \n",
       "22  0.9830  0.4782  0.7397  0.6698  \n",
       "23  0.9835  0.5056  0.7413  0.6622  \n",
       "24  0.9828  0.5245  0.7348  0.6721  \n",
       "25  0.9833  0.5239  0.7392  0.6654  \n",
       "26  0.9834  0.5162  0.7389  0.6661  \n",
       "27  0.9835  0.5195  0.7268  0.6671  "
      ]
     },
     "execution_count": 10,
     "metadata": {},
     "output_type": "execute_result"
    }
   ],
   "source": [
    "progress = pd.read_csv(os.path.join(path, 'progress.csv'), delimiter=';')\n",
    "progress"
   ]
  },
  {
   "cell_type": "code",
   "execution_count": 11,
   "metadata": {},
   "outputs": [
    {
     "data": {
      "image/png": "[encoded data removed]",
      "text/plain": [
       "<Figure size 432x288 with 1 Axes>"
      ]
     },
     "metadata": {
      "needs_background": "light"
     },
     "output_type": "display_data"
    }
   ],
   "source": [
    "progress[['training loss', 'loss']].plot();"
   ]
  },
  {
   "cell_type": "code",
   "execution_count": 12,
   "metadata": {},
   "outputs": [
    {
     "name": "stderr",
     "output_type": "stream",
     "text": [
      "/home/zz/anaconda3/envs/torch_gpu_1.5/lib/python3.7/site-packages/matplotlib/backends/backend_agg.py:214: RuntimeWarning: Glyph 65292 missing from current font.\n",
      "  font.set_text(s, 0.0, flags=flags)\n",
      "/home/zz/anaconda3/envs/torch_gpu_1.5/lib/python3.7/site-packages/matplotlib/backends/backend_agg.py:214: RuntimeWarning: Glyph 12290 missing from current font.\n",
      "  font.set_text(s, 0.0, flags=flags)\n",
      "/home/zz/anaconda3/envs/torch_gpu_1.5/lib/python3.7/site-packages/matplotlib/backends/backend_agg.py:214: RuntimeWarning: Glyph 65311 missing from current font.\n",
      "  font.set_text(s, 0.0, flags=flags)\n",
      "/home/zz/anaconda3/envs/torch_gpu_1.5/lib/python3.7/site-packages/matplotlib/backends/backend_agg.py:183: RuntimeWarning: Glyph 65292 missing from current font.\n",
      "  font.set_text(s, 0, flags=flags)\n",
      "/home/zz/anaconda3/envs/torch_gpu_1.5/lib/python3.7/site-packages/matplotlib/backends/backend_agg.py:183: RuntimeWarning: Glyph 12290 missing from current font.\n",
      "  font.set_text(s, 0, flags=flags)\n",
      "/home/zz/anaconda3/envs/torch_gpu_1.5/lib/python3.7/site-packages/matplotlib/backends/backend_agg.py:183: RuntimeWarning: Glyph 65311 missing from current font.\n",
      "  font.set_text(s, 0, flags=flags)\n"
     ]
    },
    {
     "data": {
      "image/png": "[encoded data removed]",
      "text/plain": [
       "<Figure size 432x288 with 1 Axes>"
      ]
     },
     "metadata": {
      "needs_background": "light"
     },
     "output_type": "display_data"
    }
   ],
   "source": [
    "progress[['accuracy', 'f1_O', 'f1_，', 'f1_。', 'f1_？']].plot();\n",
    "# progress[['accuracy', 'f1_O', 'f1_PERIOD']].plot();"
   ]
  },
  {
   "cell_type": "markdown",
   "metadata": {},
   "source": [
    "### Model evaluation"
   ]
  },
  {
   "cell_type": "code",
   "execution_count": 13,
   "metadata": {},
   "outputs": [],
   "source": [
    "bert_punc.load_state_dict(torch.load(os.path.join(path, 'model')))\n",
    "bert_punc.eval();"
   ]
  },
  {
   "cell_type": "code",
   "execution_count": 14,
   "metadata": {},
   "outputs": [],
   "source": [
    "batch_size = 200\n",
    "data_loader_test = create_data_loader(X_test, y_test, False, batch_size)\n",
    "data_loader_test_asr = create_data_loader(X_test_asr, y_test_asr, False, batch_size)"
   ]
  },
  {
   "cell_type": "code",
   "execution_count": 15,
   "metadata": {},
   "outputs": [],
   "source": [
    "def predictions(data_loader):\n",
    "    y_pred = []\n",
    "    y_true = []\n",
    "    for inputs, labels in tqdm(data_loader, total=len(data_loader)):\n",
    "        with torch.no_grad():\n",
    "            inputs, labels = inputs.cuda(), labels.cuda()\n",
    "            output = bert_punc(inputs)\n",
    "            y_pred += list(output.argmax(dim=1).cpu().data.numpy().flatten())\n",
    "            y_true += list(labels.cpu().data.numpy().flatten())\n",
    "    return y_pred, y_true"
   ]
  },
  {
   "cell_type": "code",
   "execution_count": 16,
   "metadata": {},
   "outputs": [],
   "source": [
    "def evaluation(y_pred, y_test):\n",
    "    precision, recall, f1, _ = metrics.precision_recall_fscore_support(\n",
    "        y_test, y_pred, average=None, labels=[1, 2, 3])\n",
    "    overall = metrics.precision_recall_fscore_support(\n",
    "        y_test, y_pred, average='macro', labels=[1, 2, 3])\n",
    "    result = pd.DataFrame(\n",
    "        np.array([precision, recall, f1]), \n",
    "        columns=list(['O', 'COMMA', 'PERIOD', 'QUESTION'])[1:], \n",
    "        index=['Precision', 'Recall', 'F1']\n",
    "    )\n",
    "    result['OVERALL'] = overall[:3]\n",
    "    return result"
   ]
  },
  {
   "cell_type": "code",
   "execution_count": 17,
   "metadata": {},
   "outputs": [],
   "source": [
    "# def evaluation(y_pred, y_test):\n",
    "#     precision, recall, f1, _ = metrics.precision_recall_fscore_support(\n",
    "#         y_test, y_pred, average=None, labels=[1])\n",
    "#     overall = metrics.precision_recall_fscore_support(\n",
    "#         y_test, y_pred, average='macro', labels=[1])\n",
    "#     result = pd.DataFrame(\n",
    "#         np.array([precision, recall, f1]), \n",
    "#         columns=list(punctuation_enc.keys())[1:], \n",
    "#         index=['Precision', 'Recall', 'F1']\n",
    "#     )\n",
    "#     result['OVERALL'] = overall[:3]\n",
    "#     return result"
   ]
  },
  {
   "cell_type": "markdown",
   "metadata": {},
   "source": [
    "#### Test"
   ]
  },
  {
   "cell_type": "code",
   "execution_count": 18,
   "metadata": {},
   "outputs": [
    {
     "name": "stderr",
     "output_type": "stream",
     "text": [
      "100%|██████████| 4/4 [00:04<00:00,  1.06s/it]\n"
     ]
    },
    {
     "data": {
      "text/html": [
       "<div>\n",
       "<style scoped>\n",
       "    .dataframe tbody tr th:only-of-type {\n",
       "        vertical-align: middle;\n",
       "    }\n",
       "\n",
       "    .dataframe tbody tr th {\n",
       "        vertical-align: top;\n",
       "    }\n",
       "\n",
       "    .dataframe thead th {\n",
       "        text-align: right;\n",
       "    }\n",
       "</style>\n",
       "<table border=\"1\" class=\"dataframe\">\n",
       "  <thead>\n",
       "    <tr style=\"text-align: right;\">\n",
       "      <th></th>\n",
       "      <th>COMMA</th>\n",
       "      <th>PERIOD</th>\n",
       "      <th>QUESTION</th>\n",
       "      <th>OVERALL</th>\n",
       "    </tr>\n",
       "  </thead>\n",
       "  <tbody>\n",
       "    <tr>\n",
       "      <th>Precision</th>\n",
       "      <td>0.558668</td>\n",
       "      <td>0.663381</td>\n",
       "      <td>0.807339</td>\n",
       "      <td>0.676463</td>\n",
       "    </tr>\n",
       "    <tr>\n",
       "      <th>Recall</th>\n",
       "      <td>0.505763</td>\n",
       "      <td>0.851664</td>\n",
       "      <td>0.684825</td>\n",
       "      <td>0.680751</td>\n",
       "    </tr>\n",
       "    <tr>\n",
       "      <th>F1</th>\n",
       "      <td>0.530900</td>\n",
       "      <td>0.745823</td>\n",
       "      <td>0.741053</td>\n",
       "      <td>0.672592</td>\n",
       "    </tr>\n",
       "  </tbody>\n",
       "</table>\n",
       "</div>"
      ],
      "text/plain": [
       "              COMMA    PERIOD  QUESTION   OVERALL\n",
       "Precision  0.558668  0.663381  0.807339  0.676463\n",
       "Recall     0.505763  0.851664  0.684825  0.680751\n",
       "F1         0.530900  0.745823  0.741053  0.672592"
      ]
     },
     "execution_count": 18,
     "metadata": {},
     "output_type": "execute_result"
    }
   ],
   "source": [
    "y_pred_test, y_true_test = predictions(data_loader_test)\n",
    "eval_test = evaluation(y_pred_test, y_true_test)\n",
    "eval_test"
   ]
  },
  {
   "cell_type": "code",
   "execution_count": 21,
   "metadata": {},
   "outputs": [
    {
     "data": {
      "text/html": [
       "<div>\n",
       "<style scoped>\n",
       "    .dataframe tbody tr th:only-of-type {\n",
       "        vertical-align: middle;\n",
       "    }\n",
       "\n",
       "    .dataframe tbody tr th {\n",
       "        vertical-align: top;\n",
       "    }\n",
       "\n",
       "    .dataframe thead th {\n",
       "        text-align: right;\n",
       "    }\n",
       "</style>\n",
       "<table border=\"1\" class=\"dataframe\">\n",
       "  <thead>\n",
       "    <tr style=\"text-align: right;\">\n",
       "      <th></th>\n",
       "      <th>COMMA</th>\n",
       "      <th>PERIOD</th>\n",
       "      <th>QUESTION</th>\n",
       "      <th>OVERALL</th>\n",
       "    </tr>\n",
       "  </thead>\n",
       "  <tbody>\n",
       "    <tr>\n",
       "      <th>Precision</th>\n",
       "      <td>0.655</td>\n",
       "      <td>0.733</td>\n",
       "      <td>0.707</td>\n",
       "      <td>0.700</td>\n",
       "    </tr>\n",
       "    <tr>\n",
       "      <th>Recall</th>\n",
       "      <td>0.471</td>\n",
       "      <td>0.725</td>\n",
       "      <td>0.630</td>\n",
       "      <td>0.597</td>\n",
       "    </tr>\n",
       "    <tr>\n",
       "      <th>F1</th>\n",
       "      <td>0.548</td>\n",
       "      <td>0.729</td>\n",
       "      <td>0.667</td>\n",
       "      <td>0.644</td>\n",
       "    </tr>\n",
       "  </tbody>\n",
       "</table>\n",
       "</div>"
      ],
      "text/plain": [
       "           COMMA  PERIOD  QUESTION  OVERALL\n",
       "Precision  0.655   0.733     0.707    0.700\n",
       "Recall     0.471   0.725     0.630    0.597\n",
       "F1         0.548   0.729     0.667    0.644"
      ]
     },
     "execution_count": 21,
     "metadata": {},
     "output_type": "execute_result"
    }
   ],
   "source": [
    "# https://www.isca-speech.org/archive/Interspeech_2016/pdfs/1517.PDF\n",
    "ref_test = pd.DataFrame({\n",
    "    'COMMA':       [0.655, 0.471, 0.548],\n",
    "    'PERIOD':       [0.733, 0.725, 0.729],\n",
    "    'QUESTION':       [0.707, 0.630, 0.667],\n",
    "    'OVERALL':  [0.700, 0.597, 0.644]\n",
    "}, index=['Precision', 'Recall', 'F1'])\n",
    "ref_test"
   ]
  },
  {
   "cell_type": "code",
   "execution_count": 22,
   "metadata": {},
   "outputs": [
    {
     "data": {
      "image/png": "[encoded data removed]",
      "text/plain": [
       "<Figure size 864x288 with 1 Axes>"
      ]
     },
     "metadata": {
      "needs_background": "light"
     },
     "output_type": "display_data"
    },
    {
     "data": {
      "image/png": "[encoded data removed]",
      "text/plain": [
       "<Figure size 864x288 with 1 Axes>"
      ]
     },
     "metadata": {
      "needs_background": "light"
     },
     "output_type": "display_data"
    },
    {
     "data": {
      "image/png": "[encoded data removed]",
      "text/plain": [
       "<Figure size 864x288 with 1 Axes>"
      ]
     },
     "metadata": {
      "needs_background": "light"
     },
     "output_type": "display_data"
    },
    {
     "data": {
      "image/png": "[encoded data removed]",
      "text/plain": [
       "<Figure size 864x288 with 1 Axes>"
      ]
     },
     "metadata": {
      "needs_background": "light"
     },
     "output_type": "display_data"
    }
   ],
   "source": [
    "for col in ref_test.columns:\n",
    "    pd.DataFrame({'Reference': ref_test[col], 'BertPunc': eval_test[col]}).plot.bar(\n",
    "        title=col, figsize=(12, 4))"
   ]
  },
  {
   "cell_type": "markdown",
   "metadata": {},
   "source": [
    "#### Test ASR"
   ]
  },
  {
   "cell_type": "code",
   "execution_count": 20,
   "metadata": {},
   "outputs": [
    {
     "name": "stderr",
     "output_type": "stream",
     "text": [
      "100%|██████████| 14/14 [00:09<00:00,  1.64it/s]\n"
     ]
    },
    {
     "data": {
      "text/html": [
       "<div>\n",
       "<style scoped>\n",
       "    .dataframe tbody tr th:only-of-type {\n",
       "        vertical-align: middle;\n",
       "    }\n",
       "\n",
       "    .dataframe tbody tr th {\n",
       "        vertical-align: top;\n",
       "    }\n",
       "\n",
       "    .dataframe thead th {\n",
       "        text-align: right;\n",
       "    }\n",
       "</style>\n",
       "<table border=\"1\" class=\"dataframe\">\n",
       "  <thead>\n",
       "    <tr style=\"text-align: right;\">\n",
       "      <th></th>\n",
       "      <th>COMMA</th>\n",
       "      <th>PERIOD</th>\n",
       "      <th>QUESTION</th>\n",
       "      <th>OVERALL</th>\n",
       "    </tr>\n",
       "  </thead>\n",
       "  <tbody>\n",
       "    <tr>\n",
       "      <th>Precision</th>\n",
       "      <td>0.485539</td>\n",
       "      <td>0.771995</td>\n",
       "      <td>0.469388</td>\n",
       "      <td>0.575641</td>\n",
       "    </tr>\n",
       "    <tr>\n",
       "      <th>Recall</th>\n",
       "      <td>0.694236</td>\n",
       "      <td>0.770087</td>\n",
       "      <td>0.657143</td>\n",
       "      <td>0.707155</td>\n",
       "    </tr>\n",
       "    <tr>\n",
       "      <th>F1</th>\n",
       "      <td>0.571429</td>\n",
       "      <td>0.771040</td>\n",
       "      <td>0.547619</td>\n",
       "      <td>0.630029</td>\n",
       "    </tr>\n",
       "  </tbody>\n",
       "</table>\n",
       "</div>"
      ],
      "text/plain": [
       "              COMMA    PERIOD  QUESTION   OVERALL\n",
       "Precision  0.485539  0.771995  0.469388  0.575641\n",
       "Recall     0.694236  0.770087  0.657143  0.707155\n",
       "F1         0.571429  0.771040  0.547619  0.630029"
      ]
     },
     "execution_count": 20,
     "metadata": {},
     "output_type": "execute_result"
    }
   ],
   "source": [
    "y_pred_test_asr, y_true_test_asr = predictions(data_loader_test_asr)\n",
    "eval_test_asr = evaluation(y_pred_test_asr, y_true_test_asr)\n",
    "eval_test_asr"
   ]
  },
  {
   "cell_type": "code",
   "execution_count": 21,
   "metadata": {},
   "outputs": [
    {
     "data": {
      "text/html": [
       "<div>\n",
       "<style scoped>\n",
       "    .dataframe tbody tr th:only-of-type {\n",
       "        vertical-align: middle;\n",
       "    }\n",
       "\n",
       "    .dataframe tbody tr th {\n",
       "        vertical-align: top;\n",
       "    }\n",
       "\n",
       "    .dataframe thead th {\n",
       "        text-align: right;\n",
       "    }\n",
       "</style>\n",
       "<table border=\"1\" class=\"dataframe\">\n",
       "  <thead>\n",
       "    <tr style=\"text-align: right;\">\n",
       "      <th></th>\n",
       "      <th>COMMA</th>\n",
       "      <th>PERIOD</th>\n",
       "      <th>QUESTION</th>\n",
       "      <th>OVERALL</th>\n",
       "    </tr>\n",
       "  </thead>\n",
       "  <tbody>\n",
       "    <tr>\n",
       "      <th>Precision</th>\n",
       "      <td>0.596</td>\n",
       "      <td>0.707</td>\n",
       "      <td>0.607</td>\n",
       "      <td>0.660</td>\n",
       "    </tr>\n",
       "    <tr>\n",
       "      <th>Recall</th>\n",
       "      <td>0.429</td>\n",
       "      <td>0.720</td>\n",
       "      <td>0.486</td>\n",
       "      <td>0.573</td>\n",
       "    </tr>\n",
       "    <tr>\n",
       "      <th>F1</th>\n",
       "      <td>0.499</td>\n",
       "      <td>0.714</td>\n",
       "      <td>0.540</td>\n",
       "      <td>0.614</td>\n",
       "    </tr>\n",
       "  </tbody>\n",
       "</table>\n",
       "</div>"
      ],
      "text/plain": [
       "           COMMA  PERIOD  QUESTION  OVERALL\n",
       "Precision  0.596   0.707     0.607    0.660\n",
       "Recall     0.429   0.720     0.486    0.573\n",
       "F1         0.499   0.714     0.540    0.614"
      ]
     },
     "execution_count": 21,
     "metadata": {},
     "output_type": "execute_result"
    }
   ],
   "source": [
    "# https://www.isca-speech.org/archive/Interspeech_2016/pdfs/1517.PDF\n",
    "ref_test_asr = pd.DataFrame({\n",
    "    'COMMA':    [0.596, 0.429, 0.499],\n",
    "    'PERIOD':   [0.707, 0.720, 0.714],\n",
    "    'QUESTION': [0.607, 0.486, 0.540],\n",
    "    'OVERALL':  [0.660, 0.573, 0.614]\n",
    "}, index=['Precision', 'Recall', 'F1'])\n",
    "ref_test_asr"
   ]
  },
  {
   "cell_type": "code",
   "execution_count": 22,
   "metadata": {},
   "outputs": [
    {
     "data": {
      "image/png": "[encoded data removed]",
      "text/plain": [
       "<Figure size 864x288 with 1 Axes>"
      ]
     },
     "metadata": {
      "needs_background": "light"
     },
     "output_type": "display_data"
    },
    {
     "data": {
      "image/png": "[encoded data removed]",
      "text/plain": [
       "<Figure size 864x288 with 1 Axes>"
      ]
     },
     "metadata": {
      "needs_background": "light"
     },
     "output_type": "display_data"
    },
    {
     "data": {
      "image/png": "[encoded data removed]",
      "text/plain": [
       "<Figure size 864x288 with 1 Axes>"
      ]
     },
     "metadata": {
      "needs_background": "light"
     },
     "output_type": "display_data"
    },
    {
     "data": {
      "image/png": "[encoded data removed]",
      "text/plain": [
       "<Figure size 864x288 with 1 Axes>"
      ]
     },
     "metadata": {
      "needs_background": "light"
     },
     "output_type": "display_data"
    }
   ],
   "source": [
    "for col in ref_test_asr.columns:\n",
    "    pd.DataFrame({'Reference': ref_test_asr[col], 'BertPunc': eval_test_asr[col]}).plot.bar(\n",
    "        title=col, figsize=(12, 4))"
   ]
  },
  {
   "cell_type": "code",
   "execution_count": null,
   "metadata": {},
   "outputs": [],
   "source": []
  }
 ],
 "metadata": {
  "kernelspec": {
   "display_name": "torch_gpu_1.5",
   "language": "python",
   "name": "torch_gpu_1.5"
  },
  "language_info": {
   "codemirror_mode": {
    "name": "ipython",
    "version": 3
   },
   "file_extension": ".py",
   "mimetype": "text/x-python",
   "name": "python",
   "nbconvert_exporter": "python",
   "pygments_lexer": "ipython3",
   "version": "3.7.7"
  }
 },
 "nbformat": 4,
 "nbformat_minor": 2
}
